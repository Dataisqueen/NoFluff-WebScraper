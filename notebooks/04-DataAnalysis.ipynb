{
 "cells": [
  {
   "cell_type": "code",
   "execution_count": 2,
   "id": "eb868629",
   "metadata": {},
   "outputs": [],
   "source": [
    "# Importuję biblioteki do procesowania i wizualizacji\n",
    "import pandas as pd\n",
    "import matplotlib.pyplot as plt"
   ]
  },
  {
   "cell_type": "code",
   "execution_count": 7,
   "id": "50f1c97e",
   "metadata": {},
   "outputs": [
    {
     "data": {
      "text/html": [
       "<div>\n",
       "<style scoped>\n",
       "    .dataframe tbody tr th:only-of-type {\n",
       "        vertical-align: middle;\n",
       "    }\n",
       "\n",
       "    .dataframe tbody tr th {\n",
       "        vertical-align: top;\n",
       "    }\n",
       "\n",
       "    .dataframe thead th {\n",
       "        text-align: right;\n",
       "    }\n",
       "</style>\n",
       "<table border=\"1\" class=\"dataframe\">\n",
       "  <thead>\n",
       "    <tr style=\"text-align: right;\">\n",
       "      <th></th>\n",
       "      <th>position</th>\n",
       "      <th>technology</th>\n",
       "      <th>company</th>\n",
       "      <th>wage min</th>\n",
       "      <th>wage max</th>\n",
       "      <th>currency</th>\n",
       "      <th>city</th>\n",
       "      <th>location_country</th>\n",
       "      <th>is_senior</th>\n",
       "    </tr>\n",
       "  </thead>\n",
       "  <tbody>\n",
       "    <tr>\n",
       "      <th>0</th>\n",
       "      <td>Spark(Java or Scala) Developer</td>\n",
       "      <td>Spark</td>\n",
       "      <td>ComScore</td>\n",
       "      <td>20000</td>\n",
       "      <td>25000</td>\n",
       "      <td>PLN</td>\n",
       "      <td>Zdalnie</td>\n",
       "      <td>NaN</td>\n",
       "      <td>0</td>\n",
       "    </tr>\n",
       "    <tr>\n",
       "      <th>1</th>\n",
       "      <td>Data Engineer</td>\n",
       "      <td>Python</td>\n",
       "      <td>People More P.S.A.</td>\n",
       "      <td>25000</td>\n",
       "      <td>33000</td>\n",
       "      <td>PLN</td>\n",
       "      <td>Zdalnie</td>\n",
       "      <td>NaN</td>\n",
       "      <td>0</td>\n",
       "    </tr>\n",
       "    <tr>\n",
       "      <th>2</th>\n",
       "      <td>Data Scientist</td>\n",
       "      <td>SQL</td>\n",
       "      <td>Justtag Group</td>\n",
       "      <td>14000</td>\n",
       "      <td>18000</td>\n",
       "      <td>PLN</td>\n",
       "      <td>Warszawa</td>\n",
       "      <td>Polska</td>\n",
       "      <td>0</td>\n",
       "    </tr>\n",
       "    <tr>\n",
       "      <th>3</th>\n",
       "      <td>Solutions Architect</td>\n",
       "      <td>SQL</td>\n",
       "      <td>Crestt</td>\n",
       "      <td>22000</td>\n",
       "      <td>28000</td>\n",
       "      <td>PLN</td>\n",
       "      <td>Warszawa</td>\n",
       "      <td>Polska</td>\n",
       "      <td>0</td>\n",
       "    </tr>\n",
       "    <tr>\n",
       "      <th>4</th>\n",
       "      <td>Data Engineer</td>\n",
       "      <td>SQL</td>\n",
       "      <td>Falck IT Poland Sp. z o.o.</td>\n",
       "      <td>16000</td>\n",
       "      <td>18000</td>\n",
       "      <td>PLN</td>\n",
       "      <td>Warszawa</td>\n",
       "      <td>Polska</td>\n",
       "      <td>0</td>\n",
       "    </tr>\n",
       "  </tbody>\n",
       "</table>\n",
       "</div>"
      ],
      "text/plain": [
       "                         position technology                     company  \\\n",
       "0  Spark(Java or Scala) Developer      Spark                    ComScore   \n",
       "1                   Data Engineer     Python          People More P.S.A.   \n",
       "2                  Data Scientist        SQL               Justtag Group   \n",
       "3             Solutions Architect        SQL                      Crestt   \n",
       "4                   Data Engineer        SQL  Falck IT Poland Sp. z o.o.   \n",
       "\n",
       "   wage min  wage max currency      city location_country  is_senior  \n",
       "0     20000     25000      PLN   Zdalnie              NaN          0  \n",
       "1     25000     33000      PLN   Zdalnie              NaN          0  \n",
       "2     14000     18000      PLN  Warszawa           Polska          0  \n",
       "3     22000     28000      PLN  Warszawa           Polska          0  \n",
       "4     16000     18000      PLN  Warszawa           Polska          0  "
      ]
     },
     "execution_count": 7,
     "metadata": {},
     "output_type": "execute_result"
    }
   ],
   "source": [
    "# Wczytuję dane\n",
    "\n",
    "df = pd.read_csv('../data/processed/job_offers_processed_2023_03_31.csv',sep=\";\", encoding='ISO-8859-1')\n",
    "df.head()"
   ]
  },
  {
   "cell_type": "code",
   "execution_count": 10,
   "id": "abdb95fa",
   "metadata": {},
   "outputs": [
    {
     "ename": "KeyError",
     "evalue": "'job'",
     "output_type": "error",
     "traceback": [
      "\u001b[1;31m---------------------------------------------------------------------------\u001b[0m",
      "\u001b[1;31mKeyError\u001b[0m                                  Traceback (most recent call last)",
      "\u001b[1;32m~\\AppData\\Local\\Temp\\ipykernel_30112\\4184727433.py\u001b[0m in \u001b[0;36m<module>\u001b[1;34m\u001b[0m\n\u001b[0;32m      1\u001b[0m \u001b[1;31m# Odpowiedź na pytanie: \"Ile jest ofert na dany typ stanowisko na rynku\"\u001b[0m\u001b[1;33m\u001b[0m\u001b[1;33m\u001b[0m\u001b[0m\n\u001b[0;32m      2\u001b[0m \u001b[1;33m\u001b[0m\u001b[0m\n\u001b[1;32m----> 3\u001b[1;33m \u001b[0mjob_offers\u001b[0m \u001b[1;33m=\u001b[0m \u001b[0mdf\u001b[0m\u001b[1;33m.\u001b[0m\u001b[0mgroupby\u001b[0m\u001b[1;33m(\u001b[0m\u001b[0mby\u001b[0m\u001b[1;33m=\u001b[0m\u001b[1;33m[\u001b[0m\u001b[1;34m'job'\u001b[0m\u001b[1;33m]\u001b[0m\u001b[1;33m)\u001b[0m\u001b[1;33m.\u001b[0m\u001b[0msize\u001b[0m\u001b[1;33m(\u001b[0m\u001b[1;33m)\u001b[0m\u001b[1;33m\u001b[0m\u001b[1;33m\u001b[0m\u001b[0m\n\u001b[0m\u001b[0;32m      4\u001b[0m \u001b[1;33m\u001b[0m\u001b[0m\n\u001b[0;32m      5\u001b[0m \u001b[0mprint\u001b[0m\u001b[1;33m(\u001b[0m\u001b[0mjob_offers\u001b[0m\u001b[1;33m)\u001b[0m\u001b[1;33m\u001b[0m\u001b[1;33m\u001b[0m\u001b[0m\n",
      "\u001b[1;32m~\\anaconda3\\lib\\site-packages\\pandas\\core\\frame.py\u001b[0m in \u001b[0;36mgroupby\u001b[1;34m(self, by, axis, level, as_index, sort, group_keys, squeeze, observed, dropna)\u001b[0m\n\u001b[0;32m   7719\u001b[0m         \u001b[1;31m# error: Argument \"squeeze\" to \"DataFrameGroupBy\" has incompatible type\u001b[0m\u001b[1;33m\u001b[0m\u001b[1;33m\u001b[0m\u001b[0m\n\u001b[0;32m   7720\u001b[0m         \u001b[1;31m# \"Union[bool, NoDefault]\"; expected \"bool\"\u001b[0m\u001b[1;33m\u001b[0m\u001b[1;33m\u001b[0m\u001b[0m\n\u001b[1;32m-> 7721\u001b[1;33m         return DataFrameGroupBy(\n\u001b[0m\u001b[0;32m   7722\u001b[0m             \u001b[0mobj\u001b[0m\u001b[1;33m=\u001b[0m\u001b[0mself\u001b[0m\u001b[1;33m,\u001b[0m\u001b[1;33m\u001b[0m\u001b[1;33m\u001b[0m\u001b[0m\n\u001b[0;32m   7723\u001b[0m             \u001b[0mkeys\u001b[0m\u001b[1;33m=\u001b[0m\u001b[0mby\u001b[0m\u001b[1;33m,\u001b[0m\u001b[1;33m\u001b[0m\u001b[1;33m\u001b[0m\u001b[0m\n",
      "\u001b[1;32m~\\anaconda3\\lib\\site-packages\\pandas\\core\\groupby\\groupby.py\u001b[0m in \u001b[0;36m__init__\u001b[1;34m(self, obj, keys, axis, level, grouper, exclusions, selection, as_index, sort, group_keys, squeeze, observed, mutated, dropna)\u001b[0m\n\u001b[0;32m    880\u001b[0m             \u001b[1;32mfrom\u001b[0m \u001b[0mpandas\u001b[0m\u001b[1;33m.\u001b[0m\u001b[0mcore\u001b[0m\u001b[1;33m.\u001b[0m\u001b[0mgroupby\u001b[0m\u001b[1;33m.\u001b[0m\u001b[0mgrouper\u001b[0m \u001b[1;32mimport\u001b[0m \u001b[0mget_grouper\u001b[0m\u001b[1;33m\u001b[0m\u001b[1;33m\u001b[0m\u001b[0m\n\u001b[0;32m    881\u001b[0m \u001b[1;33m\u001b[0m\u001b[0m\n\u001b[1;32m--> 882\u001b[1;33m             grouper, exclusions, obj = get_grouper(\n\u001b[0m\u001b[0;32m    883\u001b[0m                 \u001b[0mobj\u001b[0m\u001b[1;33m,\u001b[0m\u001b[1;33m\u001b[0m\u001b[1;33m\u001b[0m\u001b[0m\n\u001b[0;32m    884\u001b[0m                 \u001b[0mkeys\u001b[0m\u001b[1;33m,\u001b[0m\u001b[1;33m\u001b[0m\u001b[1;33m\u001b[0m\u001b[0m\n",
      "\u001b[1;32m~\\anaconda3\\lib\\site-packages\\pandas\\core\\groupby\\grouper.py\u001b[0m in \u001b[0;36mget_grouper\u001b[1;34m(obj, key, axis, level, sort, observed, mutated, validate, dropna)\u001b[0m\n\u001b[0;32m    880\u001b[0m                 \u001b[0min_axis\u001b[0m\u001b[1;33m,\u001b[0m \u001b[0mlevel\u001b[0m\u001b[1;33m,\u001b[0m \u001b[0mgpr\u001b[0m \u001b[1;33m=\u001b[0m \u001b[1;32mFalse\u001b[0m\u001b[1;33m,\u001b[0m \u001b[0mgpr\u001b[0m\u001b[1;33m,\u001b[0m \u001b[1;32mNone\u001b[0m\u001b[1;33m\u001b[0m\u001b[1;33m\u001b[0m\u001b[0m\n\u001b[0;32m    881\u001b[0m             \u001b[1;32melse\u001b[0m\u001b[1;33m:\u001b[0m\u001b[1;33m\u001b[0m\u001b[1;33m\u001b[0m\u001b[0m\n\u001b[1;32m--> 882\u001b[1;33m                 \u001b[1;32mraise\u001b[0m \u001b[0mKeyError\u001b[0m\u001b[1;33m(\u001b[0m\u001b[0mgpr\u001b[0m\u001b[1;33m)\u001b[0m\u001b[1;33m\u001b[0m\u001b[1;33m\u001b[0m\u001b[0m\n\u001b[0m\u001b[0;32m    883\u001b[0m         \u001b[1;32melif\u001b[0m \u001b[0misinstance\u001b[0m\u001b[1;33m(\u001b[0m\u001b[0mgpr\u001b[0m\u001b[1;33m,\u001b[0m \u001b[0mGrouper\u001b[0m\u001b[1;33m)\u001b[0m \u001b[1;32mand\u001b[0m \u001b[0mgpr\u001b[0m\u001b[1;33m.\u001b[0m\u001b[0mkey\u001b[0m \u001b[1;32mis\u001b[0m \u001b[1;32mnot\u001b[0m \u001b[1;32mNone\u001b[0m\u001b[1;33m:\u001b[0m\u001b[1;33m\u001b[0m\u001b[1;33m\u001b[0m\u001b[0m\n\u001b[0;32m    884\u001b[0m             \u001b[1;31m# Add key to exclusions\u001b[0m\u001b[1;33m\u001b[0m\u001b[1;33m\u001b[0m\u001b[0m\n",
      "\u001b[1;31mKeyError\u001b[0m: 'job'"
     ]
    }
   ],
   "source": [
    "# Odpowiedź na pytanie: \"Ile jest ofert na dany typ stanowisko na rynku\"\n",
    "\n",
    "job_offers = df.groupby(by=['job']).size()\n",
    "\n",
    "print(job_offers)\n",
    "job_offers.plot.bar()"
   ]
  },
  {
   "cell_type": "code",
   "execution_count": null,
   "id": "452ecf7b",
   "metadata": {},
   "outputs": [],
   "source": [
    "# Odpowiedź na pytanie: \"Ile ofert danego typu występuje w rozbiciu na różne miasta\"\n",
    "\n",
    "offers_by_city = df.groupby(by=['location_city', 'job']).size()\n",
    "\n",
    "print(offers_by_city)\n",
    "offers_by_city.sort_values().plot.bar()"
   ]
  },
  {
   "cell_type": "code",
   "execution_count": null,
   "id": "4817fa55",
   "metadata": {},
   "outputs": [],
   "source": [
    "# Odpowiedź na pytanie: \"Jakie średnie widełki obejmuje każdy typ stanowiska\"\n",
    "\n",
    "offer_salary = df.groupby(by=['job']).agg({'salary_avg': 'mean', 'name': 'count'})\n",
    "offer_salary.sort_values(by=['salary_avg'], inplace=True)\n",
    "offer_salary.rename(columns={'name':'count'}, inplace=True)\n",
    "\n",
    "print(offer_salary)\n",
    "offer_salary.plot(subplots=True, layout=(1, 2), kind='bar')"
   ]
  },
  {
   "cell_type": "code",
   "execution_count": null,
   "id": "3491c240",
   "metadata": {},
   "outputs": [],
   "source": [
    "# Odpowiedź na pytanie: \"Jaki jest średni koszt zatrudnienia osoby na danym stanowisku w określonym mieście\"\n",
    "\n",
    "offer_salary_by_city = df.groupby(by=['location_city']).agg({'salary_avg': 'mean', 'name': 'count'})\n",
    "offer_salary_by_city.sort_values(by=['salary_avg'], inplace=True)\n",
    "offer_salary_by_city.rename(columns={'name':'count'}, inplace=True)\n",
    "\n",
    "offer_salary_by_city"
   ]
  },
  {
   "cell_type": "code",
   "execution_count": null,
   "id": "abb1345d",
   "metadata": {},
   "outputs": [],
   "source": [
    "# Rozkład wynagordzenia per miatso per stanowisko w formie tabelif\n",
    "df.pivot_table(index='location_city', columns='job', values='salary_avg').plot(kind='bar')"
   ]
  },
  {
   "cell_type": "code",
   "execution_count": null,
   "id": "1a626c46",
   "metadata": {},
   "outputs": [],
   "source": [
    "# Rozkład widełek w zależności od zawodu i poziomu doświadczenia\n",
    "salary_by_senior = df.groupby(by=['job', 'is_senior']).agg({'salary_avg': 'mean', 'name': 'count'})\n",
    "salary_by_senior"
   ]
  }
 ],
 "metadata": {
  "kernelspec": {
   "display_name": "Python 3 (ipykernel)",
   "language": "python",
   "name": "python3"
  },
  "language_info": {
   "codemirror_mode": {
    "name": "ipython",
    "version": 3
   },
   "file_extension": ".py",
   "mimetype": "text/x-python",
   "name": "python",
   "nbconvert_exporter": "python",
   "pygments_lexer": "ipython3",
   "version": "3.9.13"
  }
 },
 "nbformat": 4,
 "nbformat_minor": 5
}
