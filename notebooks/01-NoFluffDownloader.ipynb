{
 "cells": [
  {
   "cell_type": "code",
   "execution_count": null,
   "id": "11433415",
   "metadata": {},
   "outputs": [],
   "source": [
    "# importujemy wymagane biblioteki\n",
    "\n",
    "import os\n",
    "from time import sleep\n",
    "from datetime import datetime\n",
    "\n",
    "from selenium.webdriver import Chrome\n",
    "from selenium.webdriver.chrome.service import Service as ChromeService\n",
    "\n",
    "from bs4 import BeautifulSoup"
   ]
  },
  {
   "cell_type": "code",
   "execution_count": null,
   "id": "9b7a4414",
   "metadata": {},
   "outputs": [],
   "source": [
    "#Wchodzimy na stronę oraz pobieramy jej całkowitą zawartość\n",
    "\n",
    "def download_page(page_number: int, job_name: str) -> BeautifulSoup:\n",
    " \n",
    "    global browser\n",
    "    url = 'https://nofluffjobs.com/pl/jobs/?criteria=keyword%3D\"{job_name}\"&page={page_number}'\n",
    "\n",
    "    browser.get(url.format(\n",
    "        job_name=job_name,\n",
    "        page_number=page_number)\n",
    "        )\n",
    "    html = browser.page_source\n",
    "\n",
    "    return BeautifulSoup(html)"
   ]
  },
  {
   "cell_type": "code",
   "execution_count": null,
   "id": "63f47a5f",
   "metadata": {},
   "outputs": [],
   "source": [
    "# Sprawdzamy czy strona jest pusta\n",
    "def is_empty_page(page) -> bool:\n",
    "    \n",
    "    empty_condition = page.find('h2', class_='font-weight-bold')\n",
    "\n",
    "    if empty_condition is None:\n",
    "        return False\n",
    "    else:\n",
    "        return True"
   ]
  },
  {
   "cell_type": "code",
   "execution_count": null,
   "id": "dadcf37c",
   "metadata": {},
   "outputs": [],
   "source": [
    "\n",
    "def get_job_offers(job_name: str) -> list:\n",
    "    \n",
    "    \"\"\"\n",
    "    Pobieramy aktualnie dostępne oferty pracy dla danego zapytania\n",
    "\n",
    "    @param job_name: zapytanie, które chcemy przeszukać\n",
    "    @returns: lista ze słownikiem {page - numer strony, job - stanowisko, html - oryginalny html strony}\n",
    "    \"\"\"\n",
    "\n",
    "    results = []  # zmienna informacjami o stronach\n",
    "    page_number = 1\n",
    "\n",
    "    # będziemy wykonywać pętle tak długo, aż nie trafimy na pustą stronę\n",
    "    while True:  \n",
    "        # pobieramy dane dla danego zawodu oraz strony\n",
    "        bs = download_page(\n",
    "            job_name=job_name,\n",
    "            page_number=page_number)\n",
    "        \n",
    "        # sprawdzamy czy strona nie jest pusta\n",
    "        if is_empty_page(bs):\n",
    "            break\n",
    "\n",
    "        # pobieramy informacje o ofertach pracy\n",
    "        results.append({'page': page_number, 'job': job_name, 'html': str(bs)})\n",
    "\n",
    "        page_number += 1  # przechodzimy do kolejnej strony\n",
    "        sleep(5)  # czekamy 5 sekund przed kolejnym odpytaniem\n",
    "\n",
    "    return results"
   ]
  },
  {
   "cell_type": "code",
   "execution_count": null,
   "id": "3b4f7037",
   "metadata": {},
   "outputs": [],
   "source": [
    "jobs = ['data analyst', 'data scientist', 'data engineer']"
   ]
  },
  {
   "cell_type": "code",
   "execution_count": null,
   "id": "090f8329",
   "metadata": {},
   "outputs": [],
   "source": [
    "# Odpalamy Selenium do scrape'owania na Chrome\n",
    "\n",
    "service = ChromeService('./drivers/chromedriver')\n",
    "browser = Chrome(service=service)\n",
    "browser.implicitly_wait(10)"
   ]
  },
  {
   "cell_type": "code",
   "execution_count": null,
   "id": "e25443f8",
   "metadata": {},
   "outputs": [],
   "source": [
    "# Pobieramy dostępne informacje o zawodach i zapisujemy jako html\n",
    "\n",
    "for job in jobs:\n",
    "    pages += get_job_offers(job)\n",
    "    for i, page in enumerate(pages):\n",
    "        with open(f\"../data/raw/rawdata {job}_{i + 1}.html\", \"w\") as file:\n",
    "            file.write(str(page))\n",
    "browser.close()"
   ]
  }
 ],
 "metadata": {
  "kernelspec": {
   "display_name": "Python 3 (ipykernel)",
   "language": "python",
   "name": "python3"
  },
  "language_info": {
   "codemirror_mode": {
    "name": "ipython",
    "version": 3
   },
   "file_extension": ".py",
   "mimetype": "text/x-python",
   "name": "python",
   "nbconvert_exporter": "python",
   "pygments_lexer": "ipython3",
   "version": "3.9.13"
  }
 },
 "nbformat": 4,
 "nbformat_minor": 5
}
